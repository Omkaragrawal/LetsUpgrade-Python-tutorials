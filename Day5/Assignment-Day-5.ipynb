{
  "nbformat": 4,
  "nbformat_minor": 0,
  "metadata": {
    "colab": {
      "name": "Assignment-Day-5.ipynb",
      "provenance": [],
      "collapsed_sections": [],
      "authorship_tag": "ABX9TyMmUH5tTKupNO69HAyu6Z/y",
      "include_colab_link": true
    },
    "kernelspec": {
      "name": "python3",
      "display_name": "Python 3"
    }
  },
  "cells": [
    {
      "cell_type": "markdown",
      "metadata": {
        "id": "view-in-github",
        "colab_type": "text"
      },
      "source": [
        "<a href=\"https://colab.research.google.com/github/Omkaragrawal/LetsUpgrade-Python-tutorials/blob/master/Day5/Assignment-Day-5.ipynb\" target=\"_parent\"><img src=\"https://colab.research.google.com/assets/colab-badge.svg\" alt=\"Open In Colab\"/></a>"
      ]
    },
    {
      "cell_type": "code",
      "metadata": {
        "id": "PE1RnRM8Pzg4",
        "colab_type": "code",
        "colab": {}
      },
      "source": [
        "import math"
      ],
      "execution_count": 0,
      "outputs": []
    },
    {
      "cell_type": "markdown",
      "metadata": {
        "id": "_lhlc3VxRN9U",
        "colab_type": "text"
      },
      "source": [
        "# Assignment 1"
      ]
    },
    {
      "cell_type": "code",
      "metadata": {
        "id": "eL6JbdtKRLJo",
        "colab_type": "code",
        "colab": {}
      },
      "source": [
        "class bankAccount():\n",
        "  def withdraw(self, withdrawAmount):\n",
        "    if int(withdrawAmount) > 0:\n",
        "      withdrawAmount = int(withdrawAmount) * -1\n",
        "    if self.manageAccount(int(withdrawAmount)):\n",
        "      print(\"Withdraw Successfull. Current balance is: \" + str(self.balance))\n",
        "      return True\n",
        "    else:\n",
        "      print(\"Check your withdraw amount to not be greater than balance. Please try again. Current balance is: \" + str(self.balance))\n",
        "\n",
        "\n",
        "  def __init__ (self, owner, balance):\n",
        "    self.owner = str(owner)\n",
        "    self.balance = int(balance)\n",
        "    print(\"Account creation successfull\")\n",
        "\n",
        "\n",
        "  def manageAccount(self, amount):\n",
        "    if self.balance + amount < 0:\n",
        "      return False\n",
        "    else:\n",
        "      self. balance += amount\n",
        "      return True\n",
        "\n",
        "\n",
        "  def deposit(self, depositAmount):\n",
        "    if int(depositAmount) < 0:\n",
        "      depositAmount = int(depositAmount) * -1\n",
        "    if self.manageAccount(int(depositAmount)):\n",
        "       print(\"Amount has been successfully deposited. Final balance is: \" + str(self.balance))\n",
        "       return True\n",
        "    else:\n",
        "        print(\"Deposit unsuccessful, please try again later, current balance is \" + str(self.balance))\n",
        "        return False"
      ],
      "execution_count": 0,
      "outputs": []
    },
    {
      "cell_type": "code",
      "metadata": {
        "id": "EVJI_jTkqiHV",
        "colab_type": "code",
        "colab": {
          "base_uri": "https://localhost:8080/",
          "height": 34
        },
        "outputId": "672cbeed-0591-400a-c0b6-5415fce19970"
      },
      "source": [
        ""
      ],
      "execution_count": 24,
      "outputs": [
        {
          "output_type": "execute_result",
          "data": {
            "text/plain": [
              "10"
            ]
          },
          "metadata": {
            "tags": []
          },
          "execution_count": 24
        }
      ]
    },
    {
      "cell_type": "code",
      "metadata": {
        "id": "L9rMuN8BoTHB",
        "colab_type": "code",
        "colab": {
          "base_uri": "https://localhost:8080/",
          "height": 69
        },
        "outputId": "87021a37-bfab-466f-d2cd-429da4235997"
      },
      "source": [
        "account1 = bankAccount(input(\"Please enter your Name: \"), input(\"Please enter you initial balance: \"))\n"
      ],
      "execution_count": 43,
      "outputs": [
        {
          "output_type": "stream",
          "text": [
            "Please enter your Name: OMKAR AGRAWAL\n",
            "Please enter you initial balance: 5000\n",
            "Account creation successfull\n"
          ],
          "name": "stdout"
        }
      ]
    },
    {
      "cell_type": "code",
      "metadata": {
        "id": "PUZ4I1KasMor",
        "colab_type": "code",
        "colab": {
          "base_uri": "https://localhost:8080/",
          "height": 69
        },
        "outputId": "35113527-4c63-4fa9-ca47-f2dbd969737d"
      },
      "source": [
        "account1.deposit(input(\"Enter the deposit amount for \" + str(account1.owner)))"
      ],
      "execution_count": 44,
      "outputs": [
        {
          "output_type": "stream",
          "text": [
            "Enter the deposit amount for OMKAR AGRAWAL2000\n",
            "Amount has been successfully deposited. Final balance is: 7000\n"
          ],
          "name": "stdout"
        },
        {
          "output_type": "execute_result",
          "data": {
            "text/plain": [
              "True"
            ]
          },
          "metadata": {
            "tags": []
          },
          "execution_count": 44
        }
      ]
    },
    {
      "cell_type": "code",
      "metadata": {
        "id": "X887DZoVsAJX",
        "colab_type": "code",
        "colab": {
          "base_uri": "https://localhost:8080/",
          "height": 34
        },
        "outputId": "e9a36588-50c6-4f47-8af0-e5ec0b99266b"
      },
      "source": [
        "account1.withdraw(9000)"
      ],
      "execution_count": 45,
      "outputs": [
        {
          "output_type": "stream",
          "text": [
            "Check your withdraw amount to not be greater than balance. Please try again. Current balance is: 7000\n"
          ],
          "name": "stdout"
        }
      ]
    },
    {
      "cell_type": "code",
      "metadata": {
        "id": "waeARPRxpgST",
        "colab_type": "code",
        "colab": {
          "base_uri": "https://localhost:8080/",
          "height": 51
        },
        "outputId": "2db97957-e719-4322-b404-54e8d1ad733d"
      },
      "source": [
        "account1.withdraw(-7000)"
      ],
      "execution_count": 46,
      "outputs": [
        {
          "output_type": "stream",
          "text": [
            "Withdraw Successfull. Current balance is: 0\n"
          ],
          "name": "stdout"
        },
        {
          "output_type": "execute_result",
          "data": {
            "text/plain": [
              "True"
            ]
          },
          "metadata": {
            "tags": []
          },
          "execution_count": 46
        }
      ]
    },
    {
      "cell_type": "code",
      "metadata": {
        "id": "SRfRI_VVtIQh",
        "colab_type": "code",
        "colab": {
          "base_uri": "https://localhost:8080/",
          "height": 34
        },
        "outputId": "a3c88901-768e-455c-fce7-ca2dbd13e199"
      },
      "source": [
        "account1.withdraw(5000)"
      ],
      "execution_count": 47,
      "outputs": [
        {
          "output_type": "stream",
          "text": [
            "Check your withdraw amount to not be greater than balance. Please try again. Current balance is: 0\n"
          ],
          "name": "stdout"
        }
      ]
    },
    {
      "cell_type": "code",
      "metadata": {
        "id": "HWX0iRFbtQwf",
        "colab_type": "code",
        "colab": {
          "base_uri": "https://localhost:8080/",
          "height": 51
        },
        "outputId": "e797fa18-0e89-43fd-bd47-efba98e4f78d"
      },
      "source": [
        "account1.deposit(-7000)"
      ],
      "execution_count": 48,
      "outputs": [
        {
          "output_type": "stream",
          "text": [
            "Amount has been successfully deposited. Final balance is: 7000\n"
          ],
          "name": "stdout"
        },
        {
          "output_type": "execute_result",
          "data": {
            "text/plain": [
              "True"
            ]
          },
          "metadata": {
            "tags": []
          },
          "execution_count": 48
        }
      ]
    },
    {
      "cell_type": "code",
      "metadata": {
        "id": "8QZ78-tdtWjE",
        "colab_type": "code",
        "colab": {
          "base_uri": "https://localhost:8080/",
          "height": 34
        },
        "outputId": "af2bfaba-1a46-4413-f1c0-3dce266b03fc"
      },
      "source": [
        "account1.withdraw(-9000)"
      ],
      "execution_count": 50,
      "outputs": [
        {
          "output_type": "stream",
          "text": [
            "Check your withdraw amount to not be greater than balance. Please try again. Current balance is: 7000\n"
          ],
          "name": "stdout"
        }
      ]
    },
    {
      "cell_type": "markdown",
      "metadata": {
        "id": "Gw8iWPw1P9U_",
        "colab_type": "text"
      },
      "source": [
        "# Assignment 2"
      ]
    },
    {
      "cell_type": "markdown",
      "metadata": {
        "id": "fnHlmKAcRT-c",
        "colab_type": "text"
      },
      "source": [
        "To be considered"
      ]
    },
    {
      "cell_type": "code",
      "metadata": {
        "id": "YrWpEmVBMpz4",
        "colab_type": "code",
        "colab": {}
      },
      "source": [
        "class cone():\n",
        "  '''\n",
        "    height: datatype integer, the height of the cone\n",
        "\n",
        "    radius: datatype integer, the radius of the cone\n",
        "\n",
        "    self.height: gives you the height\n",
        "\n",
        "    self.radius: gives you the radius\n",
        "\n",
        "    self.SurfaceArea: gives you the surfaceArea\n",
        "\n",
        "    self.Volume: gives you the volume\n",
        "\n",
        "    self.surfaceArea(): calculates and return the surface area\n",
        "\n",
        "    self.volume(): calculates and returns the volume\n",
        "  '''\n",
        "  def surfaceArea(self):\n",
        "    '''\n",
        "      Sets and return surface area of the cone\n",
        "    '''\n",
        "    self.SurfaceArea =math.pi * self.radius * (self.radius + self.sideLength)\n",
        "    return self.SurfaceArea\n",
        "  def volume(self):\n",
        "    '''\n",
        "    Sets and returns the volume of the cone\n",
        "    '''\n",
        "    self.Volume = math.pi * (self.radius ** 2) * (self.height / 3)\n",
        "    return self.Volume\n",
        "  def __init__ (self, height, radius):\n",
        "    '''\n",
        "      height: Height of the cone\n",
        "\n",
        "      radius: Radius of the cone\n",
        "    '''\n",
        "    self.height = height\n",
        "    self.radius = radius\n",
        "    self.sideLength = math.sqrt(self.height ** 2 + self.radius ** 2)\n",
        "    self.volume()\n",
        "    self.surfaceArea()"
      ],
      "execution_count": 0,
      "outputs": []
    },
    {
      "cell_type": "code",
      "metadata": {
        "id": "A7ivO1cuN4zN",
        "colab_type": "code",
        "colab": {
          "base_uri": "https://localhost:8080/",
          "height": 121
        },
        "outputId": "690a2f61-2e20-4068-c402-064db3ed6e72"
      },
      "source": [
        "iceCreamCone = cone(5, 10)\n",
        "\n",
        "print(iceCreamCone.height)\n",
        "print(iceCreamCone.radius)\n",
        "print(\"calculated volume: \" + str(iceCreamCone.volume()))\n",
        "print(iceCreamCone.Volume)\n",
        "print(\"calculated surface area: \" + str(iceCreamCone.surfaceArea()))\n",
        "print(iceCreamCone.SurfaceArea)"
      ],
      "execution_count": 12,
      "outputs": [
        {
          "output_type": "stream",
          "text": [
            "5\n",
            "10\n",
            "calculated volume: 523.5987755982989\n",
            "523.5987755982989\n",
            "calculated surface area: 665.4000019110156\n",
            "665.4000019110156\n"
          ],
          "name": "stdout"
        }
      ]
    },
    {
      "cell_type": "markdown",
      "metadata": {
        "id": "3zKNVG9fQDJU",
        "colab_type": "text"
      },
      "source": [
        "To Be Ignored"
      ]
    },
    {
      "cell_type": "code",
      "metadata": {
        "id": "FJlhE238FWr6",
        "colab_type": "code",
        "colab": {}
      },
      "source": [
        "class cone():\n",
        "  '''\n",
        "    height: datatype integer, the height of the cone\n",
        "\n",
        "    radius: datatype integer, the radius of the cone\n",
        "\n",
        "    self.height: gives you the height\n",
        "\n",
        "    self.radius: gives you the radius\n",
        "\n",
        "    self.surafceArea: gives you the surfaceArea\n",
        "\n",
        "    self.volume: gives you the volume\n",
        "\n",
        "    self.surfaceArea(): calculates and return the surface area\n",
        "\n",
        "    self.volume(): calculates and returns the volume\n",
        "  '''\n",
        "  def surfaceArea(self):\n",
        "    '''\n",
        "      Sets and return surface area of the cone\n",
        "    '''\n",
        "    self.surfaceArea =math.pi * self.radius * (self.radius + self.sideLength)\n",
        "    return self.surfaceArea\n",
        "  def volume(self):\n",
        "    '''\n",
        "    Sets and returns the volume of the cone\n",
        "    '''\n",
        "    self.volume = math.pi * (self.radius ** 2) * (self.height / 3)\n",
        "    return self.volume\n",
        "  def __init__ (self, height, radius):\n",
        "    '''\n",
        "      height: Height of the cone\n",
        "\n",
        "      radius: Radius of the cone\n",
        "    '''\n",
        "    self.height = int(height)\n",
        "    self.radius = int(radius)\n",
        "    self.sideLength = math.sqrt(self.height ** 2 + self.radius ** 2)\n",
        "    self.volume()\n",
        "    self.surfaceArea()"
      ],
      "execution_count": 0,
      "outputs": []
    },
    {
      "cell_type": "code",
      "metadata": {
        "id": "dASWz7TiLAGS",
        "colab_type": "code",
        "colab": {
          "base_uri": "https://localhost:8080/",
          "height": 287
        },
        "outputId": "41dcadf1-928a-482f-b6ae-b35971b6e3ec"
      },
      "source": [
        "iceCreamCone = cone(5, 10)\n",
        "\n",
        "print(iceCreamCone.height)\n",
        "print(iceCreamCone.radius)\n",
        "print(iceCreamCone.volume)\n",
        "print(iceCreamCone.surfaceArea)\n",
        "print(iceCreamCone.volume())\n",
        "print(iceCreamCone.surfaceArea())"
      ],
      "execution_count": 7,
      "outputs": [
        {
          "output_type": "stream",
          "text": [
            "5\n",
            "10\n",
            "523.5987755982989\n",
            "665.4000019110156\n"
          ],
          "name": "stdout"
        },
        {
          "output_type": "error",
          "ename": "TypeError",
          "evalue": "ignored",
          "traceback": [
            "\u001b[0;31m---------------------------------------------------------------------------\u001b[0m",
            "\u001b[0;31mTypeError\u001b[0m                                 Traceback (most recent call last)",
            "\u001b[0;32m<ipython-input-7-2578149f104f>\u001b[0m in \u001b[0;36m<module>\u001b[0;34m()\u001b[0m\n\u001b[1;32m      5\u001b[0m \u001b[0mprint\u001b[0m\u001b[0;34m(\u001b[0m\u001b[0miceCreamCone\u001b[0m\u001b[0;34m.\u001b[0m\u001b[0mvolume\u001b[0m\u001b[0;34m)\u001b[0m\u001b[0;34m\u001b[0m\u001b[0;34m\u001b[0m\u001b[0m\n\u001b[1;32m      6\u001b[0m \u001b[0mprint\u001b[0m\u001b[0;34m(\u001b[0m\u001b[0miceCreamCone\u001b[0m\u001b[0;34m.\u001b[0m\u001b[0msurfaceArea\u001b[0m\u001b[0;34m)\u001b[0m\u001b[0;34m\u001b[0m\u001b[0;34m\u001b[0m\u001b[0m\n\u001b[0;32m----> 7\u001b[0;31m \u001b[0mprint\u001b[0m\u001b[0;34m(\u001b[0m\u001b[0miceCreamCone\u001b[0m\u001b[0;34m.\u001b[0m\u001b[0mvolume\u001b[0m\u001b[0;34m(\u001b[0m\u001b[0;34m)\u001b[0m\u001b[0;34m)\u001b[0m\u001b[0;34m\u001b[0m\u001b[0;34m\u001b[0m\u001b[0m\n\u001b[0m\u001b[1;32m      8\u001b[0m \u001b[0mprint\u001b[0m\u001b[0;34m(\u001b[0m\u001b[0miceCreamCone\u001b[0m\u001b[0;34m.\u001b[0m\u001b[0msurfaceArea\u001b[0m\u001b[0;34m(\u001b[0m\u001b[0;34m)\u001b[0m\u001b[0;34m)\u001b[0m\u001b[0;34m\u001b[0m\u001b[0;34m\u001b[0m\u001b[0m\n",
            "\u001b[0;31mTypeError\u001b[0m: 'float' object is not callable"
          ]
        }
      ]
    }
  ]
}