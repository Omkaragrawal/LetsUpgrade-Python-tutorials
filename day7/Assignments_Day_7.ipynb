{
  "nbformat": 4,
  "nbformat_minor": 0,
  "metadata": {
    "colab": {
      "name": "Assignments-Day-7",
      "provenance": [],
      "collapsed_sections": [],
      "authorship_tag": "ABX9TyPdpD0BWSGEAuOzPCkTJ+T4",
      "include_colab_link": true
    },
    "kernelspec": {
      "name": "python3",
      "display_name": "Python 3"
    }
  },
  "cells": [
    {
      "cell_type": "markdown",
      "metadata": {
        "id": "view-in-github",
        "colab_type": "text"
      },
      "source": [
        "<a href=\"https://colab.research.google.com/github/Omkaragrawal/LetsUpgrade-Python-tutorials/blob/master/day7/Assignments_Day_7.ipynb\" target=\"_parent\"><img src=\"https://colab.research.google.com/assets/colab-badge.svg\" alt=\"Open In Colab\"/></a>"
      ]
    },
    {
      "cell_type": "markdown",
      "metadata": {
        "id": "ErwJV6gschIp",
        "colab_type": "text"
      },
      "source": [
        "# ASSIGNMENT 1"
      ]
    },
    {
      "cell_type": "code",
      "metadata": {
        "id": "xG-S8NcPcbzo",
        "colab_type": "code",
        "colab": {
          "base_uri": "https://localhost:8080/",
          "height": 34
        },
        "outputId": "65189a68-57f2-4281-f0d9-828b3794eb5d"
      },
      "source": [
        "%%writefile is_prime.py\n",
        "import sys\n",
        "\n",
        "def is_prime():\n",
        "  '''\n",
        "        number: The number to be checked\n",
        "\n",
        "        returns True if it is a Prime Number, else False if not a Prime Number\n",
        "    '''\n",
        "  number = int(sys.argv[1])\n",
        "  if number in (0, 1):\n",
        "      return False\n",
        "  divisibility_list = list((number%x == 0) for x in range(2, int(number/2 if number/2 >= 2 else 2)))\n",
        "  print(\"It is a Prime number\" if True not in divisibility_list else \"It is not a Prime number\")\n",
        "  return bool(True not in divisibility_list)\n",
        "\n",
        "if __name__ == \"__main__\":\n",
        "  is_prime()"
      ],
      "execution_count": 16,
      "outputs": [
        {
          "output_type": "stream",
          "text": [
            "Overwriting is_prime.py\n"
          ],
          "name": "stdout"
        }
      ]
    },
    {
      "cell_type": "code",
      "metadata": {
        "id": "UpCYeDzbd0H-",
        "colab_type": "code",
        "colab": {
          "base_uri": "https://localhost:8080/",
          "height": 34
        },
        "outputId": "98c329c6-0990-4eec-97f2-40c8d10efe6c"
      },
      "source": [
        "!python is_prime.py 11"
      ],
      "execution_count": 11,
      "outputs": [
        {
          "output_type": "stream",
          "text": [
            "It is a Prime number\n"
          ],
          "name": "stdout"
        }
      ]
    },
    {
      "cell_type": "code",
      "metadata": {
        "id": "9AyqZVUbjXm6",
        "colab_type": "code",
        "colab": {
          "base_uri": "https://localhost:8080/",
          "height": 34
        },
        "outputId": "04576cd1-79c6-403e-ab10-04d5c82039c5"
      },
      "source": [
        "!python is_prime.py 12"
      ],
      "execution_count": 17,
      "outputs": [
        {
          "output_type": "stream",
          "text": [
            "It is not a Prime number\n"
          ],
          "name": "stdout"
        }
      ]
    },
    {
      "cell_type": "markdown",
      "metadata": {
        "id": "WYe0wt7FjnMp",
        "colab_type": "text"
      },
      "source": [
        "# Assignment 2"
      ]
    },
    {
      "cell_type": "code",
      "metadata": {
        "id": "iQiLmLRPjpc7",
        "colab_type": "code",
        "colab": {}
      },
      "source": [
        "def wrapper_function (arg_func):\n",
        "  def function_to_be_returned(count_of_numbers):\n",
        "    print(\"Start of Fibonacci Series\")\n",
        "    arg_func(count_of_numbers)    \n",
        "    print(\"\\nEnd of Fibonacci Series\")\n",
        "  return function_to_be_returned"
      ],
      "execution_count": 0,
      "outputs": []
    },
    {
      "cell_type": "code",
      "metadata": {
        "id": "8ikPj0_NkkBR",
        "colab_type": "code",
        "colab": {
          "base_uri": "https://localhost:8080/",
          "height": 69
        },
        "outputId": "a30224ed-67c4-4a79-9ab5-c25274ec8419"
      },
      "source": [
        "@wrapper_function\n",
        "def fibonacci(count_to_print):\n",
        "  start = 0\n",
        "  end = 1\n",
        "  to_print = 0\n",
        "  for i in range(0, count_to_print):\n",
        "    print(start, end=\" \")\n",
        "    to_print = start + end\n",
        "    # update values\n",
        "    start, end = end, to_print\n",
        "fibonacci(10)"
      ],
      "execution_count": 35,
      "outputs": [
        {
          "output_type": "stream",
          "text": [
            "Start of Fibonacci Series\n",
            "0 1 1 2 3 5 8 13 21 34 \n",
            "End of Fibonacci Series\n"
          ],
          "name": "stdout"
        }
      ]
    }
  ]
}