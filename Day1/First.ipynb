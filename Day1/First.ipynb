{
 "cells": [
  {
   "cell_type": "code",
   "execution_count": 52,
   "metadata": {
    "colab": {
     "base_uri": "https://localhost:8080/",
     "height": 69
    },
    "colab_type": "code",
    "id": "x_ONWPwCcJBW",
    "outputId": "68a721c1-44a9-4256-ab43-3b33f0c45ecc"
   },
   "outputs": [
    {
     "name": "stdout",
     "output_type": "stream",
     "text": [
      "6912\n",
      "7.699999999999999\n",
      "OMKAR AGRAWAL\n"
     ]
    }
   ],
   "source": [
    "# int float and string\n",
    "firstInt = 1234\n",
    "secondInt = 5678\n",
    "intTotal = firstInt + secondInt\n",
    "\n",
    "fFloat = 1.6\n",
    "sFloat = 6.1\n",
    "floatTotal = fFloat + sFloat\n",
    "\n",
    "fName = \"OMKAR\"\n",
    "sName = \"AGRAWAL\"\n",
    "fullName = \"OMKAR AGRAWAL\"\n",
    "\n",
    "\n",
    "print(intTotal)\n",
    "print(floatTotal)\n",
    "print(fullName)"
   ]
  },
  {
   "cell_type": "code",
   "execution_count": 51,
   "metadata": {
    "colab": {
     "base_uri": "https://localhost:8080/",
     "height": 131
    },
    "colab_type": "code",
    "id": "710XfqOUWcKP",
    "outputId": "c3fc6170-0502-43c4-8515-4566507bb7c3",
    "scrolled": true
   },
   "outputs": [
    {
     "name": "stdout",
     "output_type": "stream",
     "text": [
      "[1, 5, [1, 2, 3], 'OMKAR AGRAWAL']\n",
      "------------------------------------------------------------------------------------------------------------------------\n",
      "List after append: [1, 5, [1, 2, 3], 'OMKAR AGRAWAL', [...]]\n",
      "------------------------------------------------------------------------------------------------------------------------\n",
      "Both the lists are equal\n",
      "------------------------------------------------------------------------------------------------------------------------\n",
      "list after extend is: [1, 5, [1, 2, 3], 'OMKAR AGRAWAL', [...], 1, 5, [1, 2, 3], 'OMKAR AGRAWAL', [...]]\n",
      "------------------------------------------------------------------------------------------------------------------------\n",
      "First location of [1, 2, 3] in list is: 2\n",
      "------------------------------------------------------------------------------------------------------------------------\n",
      "count of [1, 2, 3] in list is: 2\n",
      "------------------------------------------------------------------------------------------------------------------------\n",
      "[[...], 'OMKAR AGRAWAL', [1, 2, 3], 5, 1, [...], 'OMKAR AGRAWAL', [1, 2, 3], 5, 1]\n",
      "[1, 5, [1, 2, 3], 'OMKAR AGRAWAL', [...], 1, 5, [1, 2, 3], 'OMKAR AGRAWAL', [...]]\n",
      "------------------------------------------------------------------------------------------------------------------------\n",
      "------------------------------------------------------------------------------------------------------------------------\n",
      "Previous: [3, 2, 1]\n",
      "after sort: [1, 2, 3]\n",
      "------------------------------------------------------------------------------------------------------------------------\n",
      "------------------------------------------------------------------------------------------------------------------------\n",
      "before removing [1, 2, 3] from list: [1, 5, [1, 2, 3], 'OMKAR AGRAWAL', [...], 1, 5, [1, 2, 3], 'OMKAR AGRAWAL', [...]]\n",
      "after removing [1, 2, 3] from list: [1, 5, 'OMKAR AGRAWAL', [...], 1, 5, [1, 2, 3], 'OMKAR AGRAWAL', [...]]\n",
      "------------------------------------------------------------------------------------------------------------------------\n",
      "After removing element: [1, 5, 'OMKAR AGRAWAL', [...], 1, 5, [1, 2, 3], 'OMKAR AGRAWAL']\n",
      "------------------------------------------------------------------------------------------------------------------------\n",
      "After clear: []\n"
     ]
    }
   ],
   "source": [
    "lst = [1, 5, [1, 2, 3], \"OMKAR AGRAWAL\"]\n",
    "# use all default functions of list.   lst. and tab\n",
    "print(lst)\n",
    "\n",
    "#Appends the given element to the list\n",
    "lst.append(lst)\n",
    "print(\"---\"*40)\n",
    "print(\"List after append: \" + str(lst))\n",
    "\n",
    "# creates another copy of the given list\n",
    "lstCopy = lst.copy()\n",
    "print(\"---\"*40)\n",
    "print(\"Both the lists are equal\" if lstCopy == lst else \"Both the lists are not equal\")\n",
    "\n",
    "#Similar to append, but instead of adding the complete as a single element, it adds all the contents from given data\n",
    "lst.extend(lstCopy)\n",
    "print(\"---\"*40)\n",
    "print(\"list after extend is: \" + str(lst))\n",
    "\n",
    "#get the index of first occurence of given element in the given list\n",
    "print(\"---\"*40)\n",
    "print(\"First location of [1, 2, 3] in list is: \" + str(lst.index([1, 2, 3])))\n",
    "\n",
    "#Get count of occurence of given element in a given list\n",
    "print(\"---\"*40)\n",
    "print(\"count of [1, 2, 3] in list is: \" + str(lst.count([1, 2, 3])))\n",
    "\n",
    "#reverses the order of the list\n",
    "lst.reverse()\n",
    "print(\"---\"*40)\n",
    "print(lst)\n",
    "#can also be performed by\n",
    "lst[0::1]= lst[-1::-1]\n",
    "print(lst)\n",
    "print(\"---\"*40)\n",
    "\n",
    "#Sorts elements of a given list\n",
    "lst[2].sort(reverse=True)\n",
    "print(\"---\"*40)\n",
    "print(\"Previous: \"+str(lst[2]))\n",
    "lst[2].sort()\n",
    "print(\"after sort: \"+str(lst[2]))\n",
    "print(\"---\"*40)\n",
    "\n",
    "# Removes first occurence of the given element\n",
    "print(\"---\"*40)\n",
    "print(\"before removing [1, 2, 3] from list: \" + str(lst))\n",
    "lst.remove([1,2,3])\n",
    "print(\"after removing [1, 2, 3] from list: \" + str(lst))\n",
    "print(\"---\"*40)\n",
    "\n",
    "#Removes last element\n",
    "print(\"After removing element: \" + str(lst.pop()))\n",
    "print(\"---\"*40)\n",
    "\n",
    "#Empties the list\n",
    "lst.clear()\n",
    "print(\"After clear: \" + str(lst))"
   ]
  },
  {
   "cell_type": "code",
   "execution_count": 70,
   "metadata": {
    "colab": {
     "base_uri": "https://localhost:8080/",
     "height": 69
    },
    "colab_type": "code",
    "id": "bWx14lRCaBOB",
    "outputId": "3f78f26d-1e00-486f-dd4e-bdf538453e1a"
   },
   "outputs": [
    {
     "name": "stdout",
     "output_type": "stream",
     "text": [
      "{'first name': 'OMKAR', 'last name': 'AGRAWAL'}\n",
      "------------------------------------------------------------------------------------------------------------------------\n",
      "OMKAR\n",
      "also by[] : OMKAR\n",
      "------------------------------------------------------------------------------------------------------------------------\n",
      "dict_items([('first name', 'OMKAR'), ('last name', 'AGRAWAL')])\n",
      "<class 'dict_items'>\n",
      "------------------------------------------------------------------------------------------------------------------------\n",
      "Both the dictionaries are equal\n",
      "------------------------------------------------------------------------------------------------------------------------\n",
      "{'first name': None, 'last name': None}\n",
      "{'first name': 'OMKAR', 'last name': 'AGRAWAL'}\n"
     ]
    }
   ],
   "source": [
    "# dictionary\n",
    "# use all default functions of dictionary.   dictnry. and tab\n",
    "dictnry = {\"first name\": \"OMKAR\", \"last name\": \"AGRAWAL\"}\n",
    "print(dictnry)\n",
    "print(\"---\"*40)\n",
    "\n",
    "# retrieve the value of given key\n",
    "print(dictnry.get(\"first name\"))\n",
    "print(\"also by[] : \" + str(dictnry[\"first name\"]))\n",
    "print(\"---\"*40)\n",
    "\n",
    "\n",
    "# get all the key:value in dictionary as a list of (key, value) pairs\n",
    "abc = dictnry.items()\n",
    "print(abc)\n",
    "print(type(abc))\n",
    "print(\"---\"*40)\n",
    "\n",
    "#creates another copy of the dictionary\n",
    "dictCopy = dictnry.copy()\n",
    "print(\"Both the dictionaries are equal\" if dictCopy == dictnry else \"Both the dictionaries are not equal\")\n",
    "print(\"---\"*40)\n",
    "\n",
    "#Create a dictionary \n",
    "print(dictnry.fromkeys([\"first name\", \"last name\"]))\n",
    "print(\"---\"*40)\n",
    "\n",
    "#\n",
    "dictnry.\n",
    "print(dictnry)"
   ]
  },
  {
   "cell_type": "code",
   "execution_count": 0,
   "metadata": {
    "colab": {
     "base_uri": "https://localhost:8080/",
     "height": 34
    },
    "colab_type": "code",
    "id": "nhWrjMhraii_",
    "outputId": "89c80e17-1695-4fb7-d52d-b3bfff93d975"
   },
   "outputs": [
    {
     "data": {
      "text/plain": [
       "{1, 2, 3, 7.7, 'Hello World', 'a'}"
      ]
     },
     "execution_count": 12,
     "metadata": {
      "tags": []
     },
     "output_type": "execute_result"
    }
   ],
   "source": [
    "# Sets\n",
    "# use all default functions of Set.   sets. and tab\n",
    "sets = {1, 2, 3, 'a', \"Hello World\", 7.7}\n",
    "sets"
   ]
  },
  {
   "cell_type": "code",
   "execution_count": 0,
   "metadata": {
    "colab": {},
    "colab_type": "code",
    "id": "A98YmmpMcDf6"
   },
   "outputs": [],
   "source": [
    "#boolean"
   ]
  },
  {
   "cell_type": "code",
   "execution_count": 0,
   "metadata": {
    "colab": {
     "base_uri": "https://localhost:8080/",
     "height": 34
    },
    "colab_type": "code",
    "id": "e04BX2xhcUbw",
    "outputId": "a6e273e1-1961-4586-df9a-cd898baef34e"
   },
   "outputs": [
    {
     "data": {
      "text/plain": [
       "(5, 6, 7.7, 16)"
      ]
     },
     "execution_count": 14,
     "metadata": {
      "tags": []
     },
     "output_type": "execute_result"
    }
   ],
   "source": [
    "# Tupple\n",
    "# use all default functions of Set.   sets. and tab\n",
    "tup = (5, 6, 7.7, 16)\n",
    "tup"
   ]
  }
 ],
 "metadata": {
  "colab": {
   "name": "Lets upgrade Day 1",
   "provenance": []
  },
  "kernelspec": {
   "display_name": "Python 3",
   "language": "python",
   "name": "python3"
  },
  "language_info": {
   "codemirror_mode": {
    "name": "ipython",
    "version": 3
   },
   "file_extension": ".py",
   "mimetype": "text/x-python",
   "name": "python",
   "nbconvert_exporter": "python",
   "pygments_lexer": "ipython3",
   "version": "3.8.2"
  }
 },
 "nbformat": 4,
 "nbformat_minor": 1
}
