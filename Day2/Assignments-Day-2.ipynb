{
 "cells": [
  {
   "cell_type": "markdown",
   "metadata": {},
   "source": [
    "# Assignment 1"
   ]
  },
  {
   "cell_type": "code",
   "execution_count": null,
   "metadata": {},
   "outputs": [],
   "source": [
    "with open('assignment1.txt', 'w') as file:\n",
    "    file.write('I love FCS\\n')\n",
    "    print(\"File write complete\")\n",
    "with open('assignment1.txt', 'r') as file:\n",
    "    print(\"file contents are: \" + file.read())\n"
   ]
  },
  {
   "cell_type": "markdown",
   "metadata": {},
   "source": [
    "# Assignment 2"
   ]
  },
  {
   "cell_type": "code",
   "execution_count": null,
   "metadata": {},
   "outputs": [],
   "source": [
    "value = int(input(\"Enter the score\"))\n",
    "if value in range(1, 50):\n",
    "    print(\"Fail\")\n",
    "elif value in range(50, 60):\n",
    "    print(\"E\")\n",
    "elif value in range(60, 70):\n",
    "    print(\"D\")\n",
    "elif value in range(70, 80):\n",
    "    print(\"C\")\n",
    "elif value in range(80, 90):\n",
    "    print(\"B\")    \n",
    "elif value in range(90, 101):\n",
    "    print(\"A\")    \n",
    "else:\n",
    "    print(\"Please give values ranging from 1 to 100\")"
   ]
  },
  {
   "cell_type": "markdown",
   "metadata": {},
   "source": [
    "# Assignment 3"
   ]
  },
  {
   "cell_type": "code",
   "execution_count": null,
   "metadata": {},
   "outputs": [],
   "source": [
    "import random\n",
    "\n",
    "score = random.randrange(1, 250)\n",
    "\n",
    "print(score)\n",
    "\n",
    "guess = int(input(\"Guess the score\"))\n",
    "\n",
    "\n",
    "if guess < 1:\n",
    "    print(\"Please have a real guess, dont you think India wouldn't even score atleast 1? They scored: \" + str(score))\n",
    "elif guess > 250:\n",
    "    print(\"Do you really think a score more than 250 be made? Please try again. They scored: \" + str(score))\n",
    "elif score == guess:\n",
    "    print(\"What an exact guess, you are True Indian Fan! the score is: \" + str(score))\n",
    "elif guess in range(score-10, score + 10):\n",
    "    print(\"Close By, you are True Indian Fan! They scored: \" + str(score))\n",
    "else:\n",
    "    print(\"You don't watch that much! :P. They scored: \" + str(score))"
   ]
  },
  {
   "cell_type": "markdown",
   "metadata": {},
   "source": [
    "# Assignment 4"
   ]
  },
  {
   "cell_type": "code",
   "execution_count": 3,
   "metadata": {},
   "outputs": [
    {
     "name": "stdout",
     "output_type": "stream",
     "text": [
      "enter details and press extra enter to finish input5\n",
      "1\n",
      "5  5\n",
      "\n",
      "[5, 1, [5, 5]]\n",
      "[5, 5]\n",
      "Photo accepted and uploaded successfully\n"
     ]
    }
   ],
   "source": [
    "# Prep\n",
    "\n",
    "# works in python file.\n",
    "#in notebook it blocks the kernel\n",
    "\n",
    "# lines = []\n",
    "# s = int(input(\"enter details and press extra enter to finish input\"))\n",
    "# lines.append(s)\n",
    "# while s != '':\n",
    "#     s =input()\n",
    "#     if s !='':\n",
    "#         if len(s.split()) > 1:\n",
    "#             temp = []\n",
    "#             temp.extend(int(side) for side in s.split())\n",
    "#             lines.append(temp)\n",
    "#         else:\n",
    "#             lines.append(int(s))\n",
    "\n",
    "# print(lines)\n",
    "# lines = [4, 1, 5, 5]\n",
    "# square = {\"side\" : lines[0], \"perimeter\": lines[0]*4, \"area\": lines[0]**2, \"dimensions\": str(lines[0]) + \"x\" + str(lines[0])}\n",
    "# print(square)\n",
    "\n",
    "# for i in range(1, lines[1] +1):\n",
    "#     i +=1\n",
    "#     print(lines[i])\n",
    "#     print(lines[i][0] < lines[0] or lines[i][1] < lines[0])\n",
    "#     print(lines[i][0] == lines[i][1])\n",
    "#     value = \"Please upscale the photo. (min. size: {0}x{0} and should be square)\".format(lines[0]) if lines[i][0]<lines[0] or lines[i][1]<lines[0] else \"Photo accepted and uploaded successfully\" if lines[i][0] == lines[i][1] else \"Please rescale the image to be square of min. size: {0}x{0}\".format(lines[0])\n",
    "#     print(value)\n",
    "#     if lines[i][0] < lines[0] or lines[i][1]:\n",
    "#         print()\n",
    "#     elif lines[i][0] >= lines[0] && lines[i][1] >= lines[0]:\n",
    "#     else:\n",
    "        \n",
    "    \n",
    "# Assignment 4\n",
    "\n",
    "lines = []\n",
    "s = int(input(\"enter details and press extra enter to finish input\"))\n",
    "lines.append(s)\n",
    "while s != '':\n",
    "    s =input()\n",
    "    if s !='':\n",
    "        if len(s.split()) > 1:\n",
    "            temp = []\n",
    "            temp.extend(int(side) for side in s.split())\n",
    "            lines.append(temp)\n",
    "        else:\n",
    "            lines.append(int(s))\n",
    "\n",
    "print(lines)\n",
    "for i in range(1, lines[1] +1):\n",
    "    i +=1\n",
    "    print(\"Please upscale the photo. (min. size: {0}x{0} and should be square)\".format(lines[0]) if lines[i][0]<lines[0] or lines[i][1]<lines[0] else \"Photo accepted and uploaded successfully\" if lines[i][0] == lines[i][1] else \"Please rescale the image to be square of min. size: {0}x{0}\".format(lines[0]))    "
   ]
  },
  {
   "cell_type": "markdown",
   "metadata": {},
   "source": [
    "# Assignment 5"
   ]
  },
  {
   "cell_type": "code",
   "execution_count": 16,
   "metadata": {},
   "outputs": [
    {
     "name": "stdout",
     "output_type": "stream",
     "text": [
      "Enter the string of directions in single line (WITHOUT GIVING a space in between each direction)ludrrdlu\n",
      "initially at: [0, 0]\n",
      "ANKIT moved \"LEFT\" to: -1, 0\n",
      "ANKIT moved \"UP\" to: -1, 1\n",
      "ANKIT moved \"DOWN\" to: -1, 0\n",
      "ANKIT moved \"RIGHT\" to: 0, 0\n",
      "ANKIT moved \"RIGHT\" to: 1, 0\n",
      "ANKIT moved \"DOWN\" to: 1, -1\n",
      "ANKIT moved \"LEFT\" to: 0, -1\n",
      "ANKIT moved \"UP\" to: 0, 0\n",
      "ANKIT's final position is [0, 0] and is out of maze YEAH!!!\n"
     ]
    }
   ],
   "source": [
    "directions = []\n",
    "directions[:0] =input(\"Enter the string of directions in single line (WITHOUT GIVING a space in between each direction)\").casefold()\n",
    "position = [0, 0]\n",
    "print(\"initially at: \" + str(position))\n",
    "for instruction in directions:\n",
    "    if instruction == \"u\":\n",
    "        position = [position[0], position[1] + 1]\n",
    "        print('ANKIT moved \"UP\" to: {0}, {1}'.format(position[0], position[1]))\n",
    "    elif instruction == 'r':\n",
    "        position = [position[0] + 1, position[1]]\n",
    "        print('ANKIT moved \"RIGHT\" to: {0}, {1}'.format(position[0], position[1]))\n",
    "    elif instruction == 'd':\n",
    "        position = [position[0], position[1] - 1]\n",
    "        print('ANKIT moved \"DOWN\" to: {0}, {1}'.format(position[0], position[1]))\n",
    "    elif instruction == 'l':\n",
    "        position = [position[0] -1, position[1]]\n",
    "        print('ANKIT moved \"LEFT\" to: {0}, {1}'.format(position[0], position[1]))\n",
    "    else:\n",
    "        print(\"Invalid direction. ANKIT got lost in maze. Please try again\")\n",
    "        exit(0)\n",
    "print(\"ANKIT's final position is {} and is out of maze YEAH!!!\".format(position))"
   ]
  },
  {
   "cell_type": "code",
   "execution_count": null,
   "metadata": {},
   "outputs": [],
   "source": []
  },
  {
   "cell_type": "code",
   "execution_count": null,
   "metadata": {},
   "outputs": [],
   "source": []
  }
 ],
 "metadata": {
  "kernelspec": {
   "display_name": "Python 3",
   "language": "python",
   "name": "python3"
  },
  "language_info": {
   "codemirror_mode": {
    "name": "ipython",
    "version": 3
   },
   "file_extension": ".py",
   "mimetype": "text/x-python",
   "name": "python",
   "nbconvert_exporter": "python",
   "pygments_lexer": "ipython3",
   "version": "3.8.2"
  }
 },
 "nbformat": 4,
 "nbformat_minor": 2
}
