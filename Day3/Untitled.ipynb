{
 "cells": [
  {
   "cell_type": "code",
   "execution_count": 1,
   "metadata": {},
   "outputs": [
    {
     "name": "stdout",
     "output_type": "stream",
     "text": [
      "Enter the contents of the list (please give a space as a seperator in each content )1 5 6 4 1 2 3 5\n",
      "[1, 5, 6, 4, 1, 2, 3, 5]\n",
      "Should print for true\n",
      "None\n"
     ]
    }
   ],
   "source": [
    "input_list = list(int(element) for element in input(\"Enter the contents of the list (please give a space as a seperator in each content )\").split())\n",
    "contentToCheck = [1, 1,5]\n",
    "print(input_list)\n",
    "def checkForContents(toCheckList, valueToCheck = contentToCheck[0], positionFrom = 0):\n",
    "    try:\n",
    "        indexAt = input_list.index(valueToCheck, positionFrom)\n",
    "        contentToCheck.remove(valueToCheck)\n",
    "        condition = len(contentToCheck) <= 0\n",
    "        if not condition:\n",
    "            checkForContents(toCheckList, contentToCheck[0], indexAt + 1)\n",
    "        elif condition:\n",
    "            print(\"Should print for true\")\n",
    "            return True            \n",
    "    except Exception as error:\n",
    "        print(error)\n",
    "        return False\n",
    "    \n",
    "print(checkForContents(input_list))\n",
    "#print(\"it's a Match\" if checkForContents(input_list) else \"it's Gone\")\n"
   ]
  },
  {
   "cell_type": "code",
   "execution_count": null,
   "metadata": {},
   "outputs": [],
   "source": []
  }
 ],
 "metadata": {
  "kernelspec": {
   "display_name": "'Python Interactive'",
   "language": "python",
   "name": "8bfbc387-56bf-4061-8aed-60c74b0a0b65"
  },
  "language_info": {
   "codemirror_mode": {
    "name": "ipython",
    "version": 3
   },
   "file_extension": ".py",
   "mimetype": "text/x-python",
   "name": "python",
   "nbconvert_exporter": "python",
   "pygments_lexer": "ipython3",
   "version": "3.8.2"
  }
 },
 "nbformat": 4,
 "nbformat_minor": 2
}
