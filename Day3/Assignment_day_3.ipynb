{
  "nbformat": 4,
  "nbformat_minor": 0,
  "metadata": {
    "kernelspec": {
      "display_name": "Python 3",
      "language": "python",
      "name": "python3"
    },
    "language_info": {
      "codemirror_mode": {
        "name": "ipython",
        "version": 3
      },
      "file_extension": ".py",
      "mimetype": "text/x-python",
      "name": "python",
      "nbconvert_exporter": "python",
      "pygments_lexer": "ipython3",
      "version": "3.8.2"
    },
    "colab": {
      "name": "Assignment-day-3.ipynb",
      "provenance": [],
      "collapsed_sections": [],
      "include_colab_link": true
    }
  },
  "cells": [
    {
      "cell_type": "markdown",
      "metadata": {
        "id": "view-in-github",
        "colab_type": "text"
      },
      "source": [
        "<a href=\"https://colab.research.google.com/github/Omkaragrawal/LetsUpgrade-Python-tutorials/blob/master/Day3/Assignment_day_3.ipynb\" target=\"_parent\"><img src=\"https://colab.research.google.com/assets/colab-badge.svg\" alt=\"Open In Colab\"/></a>"
      ]
    },
    {
      "cell_type": "markdown",
      "metadata": {
        "id": "ULYN-fHfALUB",
        "colab_type": "text"
      },
      "source": [
        "# Assignment 1"
      ]
    },
    {
      "cell_type": "code",
      "metadata": {
        "scrolled": true,
        "id": "nf7oPariALUE",
        "colab_type": "code",
        "outputId": "47518fb1-7758-4fbe-8ec4-8f1f1e2e2331",
        "colab": {
          "base_uri": "https://localhost:8080/",
          "height": 86
        }
      },
      "source": [
        "input_list = list(int(element) for element in input(\n",
        "    \"Enter the contents of the list (please give a space as a seperator in each content )\").split())\n",
        "contentToCheck = [1, 1, 5]\n",
        "print(input_list)\n",
        "\n",
        "\n",
        "def checkForContents(toCheckList, valueToCheck=contentToCheck[0], positionFrom=0):\n",
        "    try:\n",
        "        indexAt = input_list.index(valueToCheck, positionFrom)\n",
        "        contentToCheck.remove(valueToCheck)\n",
        "        condition = len(contentToCheck) <= 0\n",
        "        if condition:\n",
        "            print(\"Should print for true\")\n",
        "            return True\n",
        "        else:\n",
        "            checkForContents(toCheckList, contentToCheck[0], indexAt + 1)\n",
        "    except Exception as error:\n",
        "        print(error)\n",
        "        return False\n",
        "\n",
        "\n",
        "print(checkForContents(input_list))\n",
        "# print(\"it's a Match\" if checkForContents(input_list) else \"it's Gone\")\n"
      ],
      "execution_count": 0,
      "outputs": [
        {
          "output_type": "stream",
          "text": [
            "Enter the contents of the list (please give a space as a seperator in each content )1 5 6 4 1 2 3 5\n",
            "[1, 5, 6, 4, 1, 2, 3, 5]\n",
            "Should print for true\n",
            "None\n"
          ],
          "name": "stdout"
        }
      ]
    },
    {
      "cell_type": "code",
      "metadata": {
        "id": "PfrMs9jUALUK",
        "colab_type": "code",
        "outputId": "f0fe0e7d-b9a0-4a63-a9e7-f05756558afd",
        "colab": {
          "base_uri": "https://localhost:8080/",
          "height": 69
        }
      },
      "source": [
        "input_list = list(int(element) for element in input(\n",
        "    \"Enter the contents of the list (please give a space as a seperator in each content )\").split())\n",
        "contentToCheck = [1, 1, 5]\n",
        "\n",
        "print(checkForContents(input_list))"
      ],
      "execution_count": 0,
      "outputs": [
        {
          "output_type": "stream",
          "text": [
            "Enter the contents of the list (please give a space as a seperator in each content )1 5 6 5 1 2 3 6\n",
            "5 is not in list\n",
            "None\n"
          ],
          "name": "stdout"
        }
      ]
    },
    {
      "cell_type": "markdown",
      "metadata": {
        "id": "Vsc-nVycpzpI",
        "colab_type": "text"
      },
      "source": [
        "# Work around for above code"
      ]
    },
    {
      "cell_type": "code",
      "metadata": {
        "id": "Y9dyX8b8pxxb",
        "colab_type": "code",
        "colab": {
          "base_uri": "https://localhost:8080/",
          "height": 69
        },
        "outputId": "1cc101d7-8ce5-46e0-f6bb-ef4de7a257ae"
      },
      "source": [
        "input_list = list(int(element) for element in input(\n",
        "    \"Enter the contents of the list (please give a space as a seperator in each content )\").split())\n",
        "contentToCheck = [1, 1, 5]\n",
        "print(input_list)\n",
        "\n",
        "\n",
        "def checkForContents(toCheckList, valueToCheck=contentToCheck[0], positionFrom=0):\n",
        "    try:\n",
        "        indexAt = input_list.index(valueToCheck, positionFrom)\n",
        "        contentToCheck.remove(valueToCheck)\n",
        "        condition = len(contentToCheck) <= 0\n",
        "        if condition:\n",
        "            # print(\"Should print for true\")\n",
        "            print(\"it's a Match\")\n",
        "            return 0\n",
        "        else:\n",
        "            checkForContents(toCheckList, contentToCheck[0], indexAt + 1)\n",
        "    except Exception as error:\n",
        "        print(error)\n",
        "        print(\"it's gone\")\n",
        "        return 0\n",
        "\n",
        "checkForContents(input_list)"
      ],
      "execution_count": 1,
      "outputs": [
        {
          "output_type": "stream",
          "text": [
            "Enter the contents of the list (please give a space as a seperator in each content )1 5 6 4 1 2 3 5\n",
            "[1, 5, 6, 4, 1, 2, 3, 5]\n",
            "it's a Match\n"
          ],
          "name": "stdout"
        }
      ]
    },
    {
      "cell_type": "code",
      "metadata": {
        "id": "aO4_kuSxqihH",
        "colab_type": "code",
        "colab": {
          "base_uri": "https://localhost:8080/",
          "height": 69
        },
        "outputId": "8b1f0c97-4f92-42ea-cfa4-1e77d6c62494"
      },
      "source": [
        "input_list = list(int(element) for element in input(\n",
        "    \"Enter the contents of the list (please give a space as a seperator in each content )\").split())\n",
        "contentToCheck = [1, 1, 5]\n",
        "\n",
        "checkForContents(input_list)"
      ],
      "execution_count": 2,
      "outputs": [
        {
          "output_type": "stream",
          "text": [
            "Enter the contents of the list (please give a space as a seperator in each content )1 5 6 5 1 2 3 6\n",
            "5 is not in list\n",
            "it's gone\n"
          ],
          "name": "stdout"
        }
      ]
    }
  ]
}